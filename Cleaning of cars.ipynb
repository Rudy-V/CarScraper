{
 "cells": [
  {
   "cell_type": "code",
   "execution_count": 1,
   "id": "4267e0b3",
   "metadata": {},
   "outputs": [],
   "source": [
    "import pandas as pd"
   ]
  },
  {
   "cell_type": "code",
   "execution_count": 2,
   "id": "4c250777",
   "metadata": {},
   "outputs": [],
   "source": [
    "df = pd.read_csv('cars.csv')\n",
    "df.columns = ['Random number', \"Total price\", \"Montly installment\", \"Year.Car.Model\", \"Used.Transmission\",\"Seller Name\", \"Seller location\", \"Km from you\"]\n",
    "df.drop(df.columns[[0, 7]], axis=1, inplace=True)"
   ]
  },
  {
   "cell_type": "code",
   "execution_count": 3,
   "id": "afb2972a",
   "metadata": {},
   "outputs": [
    {
     "data": {
      "text/html": [
       "<div>\n",
       "<style scoped>\n",
       "    .dataframe tbody tr th:only-of-type {\n",
       "        vertical-align: middle;\n",
       "    }\n",
       "\n",
       "    .dataframe tbody tr th {\n",
       "        vertical-align: top;\n",
       "    }\n",
       "\n",
       "    .dataframe thead th {\n",
       "        text-align: right;\n",
       "    }\n",
       "</style>\n",
       "<table border=\"1\" class=\"dataframe\">\n",
       "  <thead>\n",
       "    <tr style=\"text-align: right;\">\n",
       "      <th></th>\n",
       "      <th>Total price</th>\n",
       "      <th>Montly installment</th>\n",
       "      <th>Year.Car.Model</th>\n",
       "      <th>Used.Transmission</th>\n",
       "      <th>Seller Name</th>\n",
       "      <th>Seller location</th>\n",
       "    </tr>\n",
       "  </thead>\n",
       "  <tbody>\n",
       "    <tr>\n",
       "      <th>301</th>\n",
       "      <td>R 98 000</td>\n",
       "      <td>R 1 941 p/m</td>\n",
       "      <td>2017 Ford Figo Hatch 1.5 Trend</td>\n",
       "      <td>Used Car93 000 kmManual</td>\n",
       "      <td>NOLLY MOTORS</td>\n",
       "      <td>Glen Marais, Kempton Park</td>\n",
       "    </tr>\n",
       "    <tr>\n",
       "      <th>395</th>\n",
       "      <td>R 90 000</td>\n",
       "      <td>R 1 783 p/m</td>\n",
       "      <td>2015 Ford Figo 1.4 Ambiente</td>\n",
       "      <td>Used Car90 000 kmManual</td>\n",
       "      <td>DWAYNE MOTORS</td>\n",
       "      <td>Highlands North, Johannesburg</td>\n",
       "    </tr>\n",
       "    <tr>\n",
       "      <th>100</th>\n",
       "      <td>R 80 000</td>\n",
       "      <td>R 1 585 p/m</td>\n",
       "      <td>2012 Renault Laguna Coupe V6</td>\n",
       "      <td>Used Car226 017 kmAutomatic</td>\n",
       "      <td>S4 AUTO BOKSBURG</td>\n",
       "      <td>Beyers Park, Boksburg</td>\n",
       "    </tr>\n",
       "    <tr>\n",
       "      <th>518</th>\n",
       "      <td>R 85 000</td>\n",
       "      <td>R 1 684 p/m</td>\n",
       "      <td>2014 Ford Figo 1.4 Trend</td>\n",
       "      <td>Used Car38 000 kmManual</td>\n",
       "      <td>ST CARS DEALERSHIP</td>\n",
       "      <td>Kensington, Johannesburg</td>\n",
       "    </tr>\n",
       "    <tr>\n",
       "      <th>519</th>\n",
       "      <td>R 85 000</td>\n",
       "      <td>R 1 684 p/m</td>\n",
       "      <td>2015 Ford Figo 1.4 Ambiente</td>\n",
       "      <td>Used Car99 000 kmManual</td>\n",
       "      <td>DMCC CARS</td>\n",
       "      <td>Orange Grove, Johannesburg</td>\n",
       "    </tr>\n",
       "  </tbody>\n",
       "</table>\n",
       "</div>"
      ],
      "text/plain": [
       "    Total price Montly installment                  Year.Car.Model  \\\n",
       "301    R 98 000        R 1 941 p/m  2017 Ford Figo Hatch 1.5 Trend   \n",
       "395    R 90 000        R 1 783 p/m     2015 Ford Figo 1.4 Ambiente   \n",
       "100    R 80 000        R 1 585 p/m    2012 Renault Laguna Coupe V6   \n",
       "518    R 85 000        R 1 684 p/m        2014 Ford Figo 1.4 Trend   \n",
       "519    R 85 000        R 1 684 p/m     2015 Ford Figo 1.4 Ambiente   \n",
       "\n",
       "               Used.Transmission         Seller Name  \\\n",
       "301      Used Car93 000 kmManual        NOLLY MOTORS   \n",
       "395      Used Car90 000 kmManual       DWAYNE MOTORS   \n",
       "100  Used Car226 017 kmAutomatic    S4 AUTO BOKSBURG   \n",
       "518      Used Car38 000 kmManual  ST CARS DEALERSHIP   \n",
       "519      Used Car99 000 kmManual           DMCC CARS   \n",
       "\n",
       "                   Seller location  \n",
       "301      Glen Marais, Kempton Park  \n",
       "395  Highlands North, Johannesburg  \n",
       "100          Beyers Park, Boksburg  \n",
       "518       Kensington, Johannesburg  \n",
       "519     Orange Grove, Johannesburg  "
      ]
     },
     "execution_count": 3,
     "metadata": {},
     "output_type": "execute_result"
    }
   ],
   "source": [
    "df.sample(5)"
   ]
  },
  {
   "cell_type": "code",
   "execution_count": 4,
   "id": "83f3726c",
   "metadata": {},
   "outputs": [],
   "source": [
    "Year = []\n",
    "Car_brand = []\n",
    "Car_model = []\n",
    "Car_mis = []\n",
    "for row in df[\"Year.Car.Model\"]:\n",
    "    temp = row.split()\n",
    "    Year.append(temp[0])\n",
    "    Car_brand.append(temp[1])\n",
    "    Car_model.append(temp[2])\n",
    "    Car_mis.append(temp[3:])\n",
    "    "
   ]
  },
  {
   "cell_type": "code",
   "execution_count": 5,
   "id": "32ab710a",
   "metadata": {},
   "outputs": [],
   "source": [
    "Transmission = []\n",
    "Milage = []\n",
    "for row in df['Used.Transmission']:\n",
    "    if row == \"Used Car1 kmManual\":\n",
    "        milage == \"0\"\n",
    "        trans = \"Manual\"\n",
    "        Milage.append(milage)\n",
    "    else:\n",
    "        milage = row[8:-6]\n",
    "        milage = milage.replace(\"km\",\"\")\n",
    "        milage = milage.replace(\"Aut\",\"\")\n",
    "        milage = milage.replace(\" \",\"\")\n",
    "        milage = milage.strip()\n",
    "        Milage.append(milage)\n",
    "        \n",
    "    if \"Manual\" in row:\n",
    "        Transmission.append(\"Manual\")\n",
    "    else:\n",
    "        Transmission.append(\"Automatic\")\n",
    "\n",
    "df['transmission'] = Transmission\n",
    "df['milage (Thousands)'] = Milage\n",
    "df['milage (Thousands)'] = df['milage (Thousands)'].astype(int)\n",
    "df['milage (Thousands)'] = df['milage (Thousands)']/1000"
   ]
  },
  {
   "cell_type": "code",
   "execution_count": 6,
   "id": "15cec15c",
   "metadata": {},
   "outputs": [],
   "source": [
    "df['year'] = Year\n",
    "df['manufacturer'] = Car_brand\n",
    "df['model'] = Car_model\n",
    "df['extra'] = Car_mis"
   ]
  },
  {
   "cell_type": "code",
   "execution_count": 7,
   "id": "b0a64d84",
   "metadata": {},
   "outputs": [],
   "source": [
    "df['Montly installment'] = df['Montly installment'].str.replace(\"R\",\"\")\n",
    "df['Montly installment'] = df['Montly installment'].str.replace(\"p/m\",\"\")\n",
    "df['Montly installment'] = df['Montly installment'].str.replace(\" \",\"\")\n",
    "df['Montly installment'] = df['Montly installment'].str.strip()\n",
    "df['Montly installment'] = df['Montly installment'].astype(float)"
   ]
  },
  {
   "cell_type": "code",
   "execution_count": 8,
   "id": "a0a8e880",
   "metadata": {},
   "outputs": [
    {
     "data": {
      "text/plain": [
       "numpy.float64"
      ]
     },
     "execution_count": 8,
     "metadata": {},
     "output_type": "execute_result"
    }
   ],
   "source": [
    "type(df['Montly installment'][0])"
   ]
  },
  {
   "cell_type": "code",
   "execution_count": 9,
   "id": "5439b843",
   "metadata": {},
   "outputs": [],
   "source": [
    "df['Total price'] = df['Total price'].str.replace(\"R\",\"\")\n",
    "df['Total price'] = df['Total price'].str.replace(\" \",\"\")\n",
    "df['Total price'] = df['Total price'].str.strip()\n",
    "df['Total price'] = df['Total price'].astype(float)"
   ]
  },
  {
   "cell_type": "code",
   "execution_count": 10,
   "id": "eaec0e49",
   "metadata": {},
   "outputs": [
    {
     "data": {
      "text/plain": [
       "numpy.float64"
      ]
     },
     "execution_count": 10,
     "metadata": {},
     "output_type": "execute_result"
    }
   ],
   "source": [
    "type(df['Total price'][0])"
   ]
  },
  {
   "cell_type": "code",
   "execution_count": 11,
   "id": "255210be",
   "metadata": {},
   "outputs": [
    {
     "data": {
      "text/html": [
       "<div>\n",
       "<style scoped>\n",
       "    .dataframe tbody tr th:only-of-type {\n",
       "        vertical-align: middle;\n",
       "    }\n",
       "\n",
       "    .dataframe tbody tr th {\n",
       "        vertical-align: top;\n",
       "    }\n",
       "\n",
       "    .dataframe thead th {\n",
       "        text-align: right;\n",
       "    }\n",
       "</style>\n",
       "<table border=\"1\" class=\"dataframe\">\n",
       "  <thead>\n",
       "    <tr style=\"text-align: right;\">\n",
       "      <th></th>\n",
       "      <th>Total price</th>\n",
       "      <th>Montly installment</th>\n",
       "      <th>Year.Car.Model</th>\n",
       "      <th>Used.Transmission</th>\n",
       "      <th>Seller Name</th>\n",
       "      <th>Seller location</th>\n",
       "      <th>transmission</th>\n",
       "      <th>milage (Thousands)</th>\n",
       "      <th>year</th>\n",
       "      <th>manufacturer</th>\n",
       "      <th>model</th>\n",
       "      <th>extra</th>\n",
       "    </tr>\n",
       "  </thead>\n",
       "  <tbody>\n",
       "    <tr>\n",
       "      <th>458</th>\n",
       "      <td>89900.0</td>\n",
       "      <td>1781.0</td>\n",
       "      <td>2013 GWM Steed 5 2.0VGT Double Cab 4x4 Lux</td>\n",
       "      <td>Used Car220 000 kmManual</td>\n",
       "      <td>RIGHT CARS</td>\n",
       "      <td>North Riding, Randburg</td>\n",
       "      <td>Manual</td>\n",
       "      <td>220.0</td>\n",
       "      <td>2013</td>\n",
       "      <td>GWM</td>\n",
       "      <td>Steed</td>\n",
       "      <td>[5, 2.0VGT, Double, Cab, 4x4, Lux]</td>\n",
       "    </tr>\n",
       "  </tbody>\n",
       "</table>\n",
       "</div>"
      ],
      "text/plain": [
       "     Total price  Montly installment  \\\n",
       "458      89900.0              1781.0   \n",
       "\n",
       "                                 Year.Car.Model         Used.Transmission  \\\n",
       "458  2013 GWM Steed 5 2.0VGT Double Cab 4x4 Lux  Used Car220 000 kmManual   \n",
       "\n",
       "    Seller Name         Seller location transmission  milage (Thousands)  \\\n",
       "458  RIGHT CARS  North Riding, Randburg       Manual               220.0   \n",
       "\n",
       "     year manufacturer  model                               extra  \n",
       "458  2013          GWM  Steed  [5, 2.0VGT, Double, Cab, 4x4, Lux]  "
      ]
     },
     "execution_count": 11,
     "metadata": {},
     "output_type": "execute_result"
    }
   ],
   "source": [
    "df.sample()"
   ]
  },
  {
   "cell_type": "code",
   "execution_count": 12,
   "id": "39675f36",
   "metadata": {},
   "outputs": [],
   "source": [
    "df.to_csv(\"Clean_cars.csv\", index=False)"
   ]
  },
  {
   "cell_type": "code",
   "execution_count": null,
   "id": "cbecf6ab",
   "metadata": {},
   "outputs": [],
   "source": []
  }
 ],
 "metadata": {
  "kernelspec": {
   "display_name": "Python 3 (ipykernel)",
   "language": "python",
   "name": "python3"
  },
  "language_info": {
   "codemirror_mode": {
    "name": "ipython",
    "version": 3
   },
   "file_extension": ".py",
   "mimetype": "text/x-python",
   "name": "python",
   "nbconvert_exporter": "python",
   "pygments_lexer": "ipython3",
   "version": "3.8.10"
  }
 },
 "nbformat": 4,
 "nbformat_minor": 5
}
